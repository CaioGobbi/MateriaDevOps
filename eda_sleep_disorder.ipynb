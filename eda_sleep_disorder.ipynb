{
 "cells": [
  {
   "cell_type": "code",
   "execution_count": null,
   "metadata": {},
   "outputs": [],
   "source": [
    "import pandas as pd\n",
    "import seaborn as srn\n",
    "import matplotlib.pyplot as plt\n",
    "plt.style.use('ggplot')"
   ]
  },
  {
   "cell_type": "code",
   "execution_count": null,
   "metadata": {},
   "outputs": [],
   "source": [
    "arquivo_personal = pd.read_parquet('personal_data.parquet')\n",
    "arquivo_experimental = pd.read_parquet('experimental_data.parquet')\n",
    "\n",
    "df_ap = pd.read_parquet(arquivo_personal)\n",
    "df_ae = pd.read_parquet(arquivo_experimental)\n",
    "\n",
    "df_ae.head()"
   ]
  },
  {
   "cell_type": "code",
   "execution_count": null,
   "metadata": {},
   "outputs": [],
   "source": [
    "df_ap.head()"
   ]
  },
  {
   "cell_type": "code",
   "execution_count": null,
   "metadata": {},
   "outputs": [],
   "source": [
    "df_ae.info()\n",
    "df_ae.isnull().sum()"
   ]
  },
  {
   "cell_type": "code",
   "execution_count": null,
   "metadata": {},
   "outputs": [],
   "source": [
    "df_ap.info()\n",
    "df_ap.isnull().sum()"
   ]
  },
  {
   "cell_type": "code",
   "execution_count": null,
   "metadata": {},
   "outputs": [],
   "source": [
    "df_ap = df_ap.dropna()\n",
    "df_ae = df_ae.dropna()"
   ]
  },
  {
   "cell_type": "code",
   "execution_count": null,
   "metadata": {},
   "outputs": [],
   "source": [
    "df_ae.head()"
   ]
  },
  {
   "cell_type": "code",
   "execution_count": null,
   "metadata": {},
   "outputs": [],
   "source": [
    "df_ap.head()"
   ]
  },
  {
   "cell_type": "code",
   "execution_count": null,
   "metadata": {},
   "outputs": [],
   "source": [
    "# quantos participaram da pesquisa?\n",
    "num_pessoas = df_ap.shape[0]\n",
    "print(f\"Participaram da pesquisa:  {num_pessoas} indivíduos.\")"
   ]
  },
  {
   "cell_type": "code",
   "execution_count": null,
   "metadata": {},
   "outputs": [],
   "source": [
    "# idade igual ou superior a 45\n",
    "\n",
    "idade = 45\n",
    "igual_ou_maior = df_ap[df_ap['Age'] >= idade]\n",
    "\n",
    "resultado_idade = igual_ou_maior.shape[0]\n",
    "\n",
    "print(f'O número de individuos com idade igual ou superior a {idade} é: {resultado_idade}')"
   ]
  },
  {
   "cell_type": "code",
   "execution_count": null,
   "metadata": {},
   "outputs": [],
   "source": [
    "# moda, média e mediana da idade dos individuos que não tem distúrbios do sono\n",
    "\n",
    "df_merged = pd.merge(df_ap, df_ae, on = 'Person ID')\n",
    "\n",
    "nao_disturbio = df_merged[df_merged['Sleep Disorder'] == 'N/A']\n",
    "\n",
    "moda_idade = nao_disturbio['Age'].mode()[0]\n",
    "media_idade = nao_disturbio['Age'].mean()\n",
    "mediana_idade = nao_disturbio['Age'].median()\n",
    "\n",
    "\n",
    "print(moda_idade)\n",
    "print(media_idade)\n",
    "print(mediana_idade)"
   ]
  }
 ],
 "metadata": {
  "kernelspec": {
   "display_name": "Python 3",
   "language": "python",
   "name": "python3"
  },
  "language_info": {
   "codemirror_mode": {
    "name": "ipython",
    "version": 3
   },
   "file_extension": ".py",
   "mimetype": "text/x-python",
   "name": "python",
   "nbconvert_exporter": "python",
   "pygments_lexer": "ipython3",
   "version": "3.12.10"
  }
 },
 "nbformat": 4,
 "nbformat_minor": 2
}
