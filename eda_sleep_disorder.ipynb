{
 "cells": [
  {
   "cell_type": "code",
   "execution_count": null,
   "metadata": {},
   "outputs": [],
   "source": [
    "import pandas as pd\n",
    "import seaborn as srn\n",
    "import matplotlib.pyplot as plt\n",
    "plt.style.use('ggplot')"
   ]
  },
  {
   "cell_type": "code",
   "execution_count": null,
   "metadata": {},
   "outputs": [],
   "source": [
    "arquivo_personal = pd.read_parquet('personal_data.parquet')\n",
    "arquivo_experimental = pd.read_parquet('experimental_data.parquet')\n",
    "\n",
    "df_ap = pd.read_parquet(arquivo_personal)\n",
    "df_ae = pd.read_parquet(arquivo_experimental)\n",
    "\n",
    "df_ae.head()"
   ]
  },
  {
   "cell_type": "code",
   "execution_count": null,
   "metadata": {},
   "outputs": [],
   "source": [
    "df_ap.head()"
   ]
  },
  {
   "cell_type": "code",
   "execution_count": null,
   "metadata": {},
   "outputs": [],
   "source": [
    "df_ae.info()\n",
    "df_ae.isnull().sum()"
   ]
  },
  {
   "cell_type": "code",
   "execution_count": null,
   "metadata": {},
   "outputs": [],
   "source": [
    "df_ap.info()\n",
    "df_ap.isnull().sum()"
   ]
  },
  {
   "cell_type": "code",
   "execution_count": null,
   "metadata": {},
   "outputs": [],
   "source": [
    "df_ap = df_ap.dropna()\n",
    "df_ae = df_ae.dropna()"
   ]
  },
  {
   "cell_type": "code",
   "execution_count": null,
   "metadata": {},
   "outputs": [],
   "source": [
    "df_ae.head()"
   ]
  },
  {
   "cell_type": "code",
   "execution_count": null,
   "metadata": {},
   "outputs": [],
   "source": [
    "df_ap.head()"
   ]
  },
  {
   "cell_type": "code",
   "execution_count": null,
   "metadata": {},
   "outputs": [],
   "source": [
    "# quantos participaram da pesquisa?\n",
    "num_pessoas = df_ap.shape[0]\n",
    "print(f\"Participaram da pesquisa:  {num_pessoas} indivíduos.\")"
   ]
  },
  {
   "cell_type": "code",
   "execution_count": null,
   "metadata": {},
   "outputs": [],
   "source": [
    "# idade igual ou superior a 45\n",
    "\n",
    "idade = 45\n",
    "igual_ou_maior = df_ap[df_ap['Age'] >= idade]\n",
    "\n",
    "resultado_idade = igual_ou_maior.shape[0]\n",
    "\n",
    "print(f'O número de individuos com idade igual ou superior a {idade} é: {resultado_idade}')"
   ]
  },
  {
   "cell_type": "code",
   "execution_count": null,
   "metadata": {},
   "outputs": [],
   "source": [
    "# moda, média e mediana da idade dos individuos que não tem distúrbios do sono\n",
    "\n",
    "df_merged = pd.merge(df_ap, df_ae, on = 'Person ID')\n",
    "\n",
    "nao_disturbio = df_merged[df_merged['Sleep Disorder'] == 'N/A']\n",
    "\n",
    "moda_idade = nao_disturbio['Age'].mode()[0]\n",
    "media_idade = nao_disturbio['Age'].mean()\n",
    "mediana_idade = nao_disturbio['Age'].median()\n",
    "\n",
    "\n",
    "print(moda_idade)\n",
    "print(media_idade)\n",
    "print(mediana_idade)"
   ]
  },
  {
   "cell_type": "code",
   "execution_count": null,
   "metadata": {},
   "outputs": [],
   "source": [
    "# correlação entre qualidade de sono e nível de stress\n",
    "\n",
    "correlacao = df_ae['Quality of Sleep'].corr(df_ae['Stress Level'])\n",
    "\n",
    "print(f'Correlação entre qualidade do sono e nível de estresse: {correlacao:.3f}')\n",
    "print(f'\\nSabendo que o valor obtido foi de {correlacao:.3f}, podemos perceber que melhorar a qualidade do sono pode ser muito benéfico para reduzir o estresse.')"
   ]
  },
  {
   "cell_type": "code",
   "execution_count": null,
   "metadata": {},
   "outputs": [],
   "source": [
    "# gráfico da duração média do sono por idade\n",
    "\n",
    "def horas_to_decimal(duracao):\n",
    "        horas, minutos = map(int, duracao.split(':'))\n",
    "        return horas + minutos / 60\n",
    "\n",
    "\n",
    "df_merged ['Sleep Duration'] = df_merged['Sleep Duration'].apply(horas_to_decimal)\n",
    "duracao_media_sono_por_idade = df_merged.groupby('Age')['Sleep Duration'].mean().reset_index()\n",
    "\n",
    "\n",
    "plt.plot(duracao_media_sono_por_idade['Age'], duracao_media_sono_por_idade['Sleep Duration'], color = 'orange', label = 'Média')\n",
    "plt.title('Duração média do sono por idade')\n",
    "plt.xlabel('Idade')\n",
    "plt.ylabel('Duração média do sono (horas)')\n"
   ]
  },
  {
   "cell_type": "code",
   "execution_count": null,
   "metadata": {},
   "outputs": [],
   "source": [
    "#  gráfico contendo a duração média do sono entre os diferentes tipo de distúrbio, fazendo a separação por gênero\n",
    "\n",
    "dur_media_sono_por_disturbio_genero = df_merged.groupby(['Sleep Disorder', 'Gender'])['Sleep Duration'].mean().reset_index()\n",
    "\n",
    "cores = ['#FF6347', '#4682B4']\n",
    "\n",
    "plt.figure(figsize = (5, 7))\n",
    "srn.barplot(data = dur_media_sono_por_disturbio_genero, x = 'Sleep Disorder', y = 'Sleep Duration', hue = 'Gender', palette = cores)\n",
    "plt.title('Duração Média do Sono por Tipo de Distúrbio e Gênero')\n",
    "plt.xlabel('Tipo de Distúrbio')\n",
    "plt.ylabel('Duração Média do Sono (horas)')\n",
    "plt.xticks(rotation = 45)\n",
    "plt.legend(title = 'Gênero')\n",
    "plt.show()"
   ]
  },
  {
   "cell_type": "code",
   "execution_count": null,
   "metadata": {},
   "outputs": [],
   "source": [
    "#  gráfico contendo a duração média do sono entre os diferentes tipo de distúrbio, fazendo a separação por profissão\n",
    "\n",
    "dur_media_sono_por_profissao_genero = df_merged.groupby(['Sleep Disorder', 'Occupation'])['Sleep Duration'].mean().reset_index()\n",
    "\n",
    "plt.figure(figsize = (15, 7))\n",
    "srn.barplot(data=dur_media_sono_por_profissao_genero, x = 'Sleep Disorder', y = 'Sleep Duration', hue = 'Occupation', palette = 'viridis')\n",
    "plt.title('Duração Média do Sono por Tipo de Distúrbio e Profissão')\n",
    "plt.xlabel('Tipo de Distúrbio')\n",
    "plt.ylabel('Duração Média do Sono (horas)')\n",
    "plt.xticks(rotation = 30)\n",
    "plt.legend(title ='Profissão')\n",
    "plt.show()"
   ]
  }
 ],
 "metadata": {
  "kernelspec": {
   "display_name": "Python 3",
   "language": "python",
   "name": "python3"
  },
  "language_info": {
   "codemirror_mode": {
    "name": "ipython",
    "version": 3
   },
   "file_extension": ".py",
   "mimetype": "text/x-python",
   "name": "python",
   "nbconvert_exporter": "python",
   "pygments_lexer": "ipython3",
   "version": "3.12.10"
  }
 },
 "nbformat": 4,
 "nbformat_minor": 2
}
