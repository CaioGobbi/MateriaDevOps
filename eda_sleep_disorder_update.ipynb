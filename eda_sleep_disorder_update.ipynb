{
 "cells": [
  {
   "cell_type": "code",
   "execution_count": null,
   "metadata": {},
   "outputs": [],
   "source": [
    "import pandas as pd\n",
    "import seaborn as srn\n",
    "import matplotlib.pyplot as plt\n",
    "plt.style.use('ggplot')"
   ]
  },
  {
   "cell_type": "code",
   "execution_count": null,
   "metadata": {},
   "outputs": [],
   "source": [
    "arquivo_personal = pd.read_parquet('personal_data.parquet')\n",
    "arquivo_experimental = pd.read_parquet('experimental_data.parquet')\n",
    "\n",
    "df_ap = pd.read_parquet(arquivo_personal)\n",
    "df_ae = pd.read_parquet(arquivo_experimental)\n",
    "\n",
    "df_ae.head()"
   ]
  },
  {
   "cell_type": "code",
   "execution_count": null,
   "metadata": {},
   "outputs": [],
   "source": [
    "df_ap.head()"
   ]
  },
  {
   "cell_type": "code",
   "execution_count": null,
   "metadata": {},
   "outputs": [],
   "source": [
    "df_ae.info()\n",
    "df_ae.isnull().sum()"
   ]
  },
  {
   "cell_type": "code",
   "execution_count": null,
   "metadata": {},
   "outputs": [],
   "source": [
    "df_ap.info()\n",
    "df_ap.isnull().sum()"
   ]
  },
  {
   "cell_type": "code",
   "execution_count": null,
   "metadata": {},
   "outputs": [],
   "source": [
    "df_ap = df_ap.dropna()\n",
    "df_ae = df_ae.dropna()"
   ]
  },
  {
   "cell_type": "code",
   "execution_count": null,
   "metadata": {},
   "outputs": [],
   "source": [
    "df_ae.head()"
   ]
  },
  {
   "cell_type": "code",
   "execution_count": null,
   "metadata": {},
   "outputs": [],
   "source": [
    "df_ap.head()"
   ]
  },
  {
   "cell_type": "code",
   "execution_count": null,
   "metadata": {},
   "outputs": [],
   "source": [
    "# quantos participaram da pesquisa?\n",
    "num_pessoas = df_ap.shape[0]\n",
    "print(f\"Participaram da pesquisa:  {num_pessoas} indivíduos.\")"
   ]
  },
  {
   "cell_type": "code",
   "execution_count": null,
   "metadata": {},
   "outputs": [],
   "source": [
    "# frequência absoluta e relativa por profissão\n",
    "ag_profiisao_ab = df_ap['Occupation'].value_counts()\n",
    "ag_profiisao_rl = df_ap['Occupation'].value_counts(normalize = True)\n",
    "\n",
    "print('Frequência absoluta:')\n",
    "print(ag_profiisao_ab)\n",
    "print('\\nFrequência relativa:')\n",
    "print(ag_profiisao_rl*100)"
   ]
  }
 ],
 "metadata": {
  "kernelspec": {
   "display_name": "Python 3",
   "language": "python",
   "name": "python3"
  },
  "language_info": {
   "codemirror_mode": {
    "name": "ipython",
    "version": 3
   },
   "file_extension": ".py",
   "mimetype": "text/x-python",
   "name": "python",
   "nbconvert_exporter": "python",
   "pygments_lexer": "ipython3",
   "version": "3.12.10"
  }
 },
 "nbformat": 4,
 "nbformat_minor": 2
}
